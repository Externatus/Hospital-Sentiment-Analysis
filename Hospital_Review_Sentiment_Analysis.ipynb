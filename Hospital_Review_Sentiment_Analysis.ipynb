{
  "nbformat": 4,
  "nbformat_minor": 0,
  "metadata": {
    "colab": {
      "name": "Hospital_Review_Sentiment_Analysis.ipynb",
      "provenance": []
    },
    "kernelspec": {
      "name": "python3",
      "display_name": "Python 3"
    }
  },
  "cells": [
    {
      "cell_type": "code",
      "metadata": {
        "id": "SBuD-kTKuIzG",
        "colab_type": "code",
        "colab": {}
      },
      "source": [
        "#Utils\n",
        "import numpy as np\n",
        "import pandas as pd\n",
        "\n",
        "#NLP\n",
        "import nltk\n",
        "from nltk import sent_tokenize, word_tokenize\n",
        "from nltk.sentiment.vader import SentimentIntensityAnalyzer\n",
        "from nltk.sentiment.util import  mark_negation\n",
        "from nltk.stem import PorterStemmer"
      ],
      "execution_count": 0,
      "outputs": []
    },
    {
      "cell_type": "code",
      "metadata": {
        "id": "XCB7lRYyuWWw",
        "colab_type": "code",
        "colab": {}
      },
      "source": [
        "#Download resource\n",
        "nltk.download(\"stopwords\")\n",
        "nltk.download(\"punkt\")\n",
        "nltk.download(\"vader_lexicon\")"
      ],
      "execution_count": 0,
      "outputs": []
    },
    {
      "cell_type": "code",
      "metadata": {
        "id": "054feYzGuY-s",
        "colab_type": "code",
        "colab": {}
      },
      "source": [
        "\"\"\"get removed stopword column.\n",
        "        Parameters\n",
        "        ----------\n",
        "        reviews_en : str\n",
        "            comment in english language\n",
        "\"\"\"\n",
        "def apply_stopwords(reviews_en):\n",
        "    tokenize_words_list = []\n",
        "    for row in reviews_en:\n",
        "        words = nltk.tokenize.word_tokenize(row)\n",
        "        tokenize_words = [word.lower() for word in words not in nltk.corpus.stopwords.words(\"english\")]\n",
        "        tokenize_words_list.append(tokenize_words)\n",
        "    return tokenize_words_list"
      ],
      "execution_count": 0,
      "outputs": []
    },
    {
      "cell_type": "code",
      "metadata": {
        "id": "S4amlHXKuboQ",
        "colab_type": "code",
        "colab": {}
      },
      "source": [
        "\"\"\"get stemming words column.\n",
        "        Parameters\n",
        "        ----------\n",
        "        word_list : list of list of string\n",
        "             list of list of word\n",
        "\"\"\"\n",
        "def apply_stemming(word_list):\n",
        "    stemming_list = []\n",
        "    porter = PorterStemmer()\n",
        "    for row in word_list:\n",
        "        stemming_words = [porter.stem(word) for word in word_list]\n",
        "        stemming_list.append(stemming_words)\n",
        "    return stemming_list"
      ],
      "execution_count": 0,
      "outputs": []
    },
    {
      "cell_type": "code",
      "metadata": {
        "id": "CLgC15BJulgu",
        "colab_type": "code",
        "colab": {}
      },
      "source": [
        "hospital_list = [\"bumrungrad\",  \"lerdsin\", \"rajavithi\"]"
      ],
      "execution_count": 0,
      "outputs": []
    },
    {
      "cell_type": "code",
      "metadata": {
        "id": "76aWPBXfupME",
        "colab_type": "code",
        "colab": {}
      },
      "source": [
        "df = pd.read_csv(hospital+\"-translated.csv\")"
      ],
      "execution_count": 0,
      "outputs": []
    },
    {
      "cell_type": "code",
      "metadata": {
        "id": "PYNO5HcLut3G",
        "colab_type": "code",
        "colab": {}
      },
      "source": [
        "rajavithi_df[\"word_list\"] = apply_stopwords(rajavithi_df[\"reviews_en\"])\n",
        "rajavithi_df.head()\n"
      ],
      "execution_count": 0,
      "outputs": []
    },
    {
      "cell_type": "code",
      "metadata": {
        "id": "96EPX489uwSg",
        "colab_type": "code",
        "colab": {}
      },
      "source": [
        "rajavithi_df[\"stemming_list\"] = apply_stemming(rajavithi_df[\"word_list\"])\n",
        "rajavithi_df.head()"
      ],
      "execution_count": 0,
      "outputs": []
    }
  ]
}