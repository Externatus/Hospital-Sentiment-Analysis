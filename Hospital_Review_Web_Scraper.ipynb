{
 "cells": [
  {
   "cell_type": "code",
   "execution_count": 1,
   "metadata": {
    "colab": {
     "base_uri": "https://localhost:8080/",
     "height": 34
    },
    "colab_type": "code",
    "id": "Gnl4DGwj5t41",
    "outputId": "c1bc7d58-a1b7-4c46-a582-cc526cdf89ef"
   },
   "outputs": [
    {
     "name": "stdout",
     "output_type": "stream",
     "text": [
      "Requirement already satisfied: beautifulsoup4 in /Users/mysecret/opt/anaconda3/lib/python3.7/site-packages (4.8.2)\r\n",
      "Requirement already satisfied: soupsieve>=1.2 in /Users/mysecret/opt/anaconda3/lib/python3.7/site-packages (from beautifulsoup4) (1.9.5)\r\n"
     ]
    }
   ],
   "source": [
    "!pip install beautifulsoup4"
   ]
  },
  {
   "cell_type": "code",
   "execution_count": 2,
   "metadata": {
    "colab": {
     "base_uri": "https://localhost:8080/",
     "height": 34
    },
    "colab_type": "code",
    "id": "zT5jrznu52ew",
    "outputId": "bdb2008d-ae87-4625-9ed6-fcf8b153c3a5"
   },
   "outputs": [
    {
     "name": "stdout",
     "output_type": "stream",
     "text": [
      "Requirement already satisfied: lxml in /Users/mysecret/opt/anaconda3/lib/python3.7/site-packages (4.5.0)\r\n"
     ]
    }
   ],
   "source": [
    "!pip install lxml"
   ]
  },
  {
   "cell_type": "code",
   "execution_count": 21,
   "metadata": {},
   "outputs": [
    {
     "name": "stdout",
     "output_type": "stream",
     "text": [
      "Requirement already satisfied: nltk in /Users/mysecret/opt/anaconda3/lib/python3.7/site-packages (3.4.5)\r\n",
      "Requirement already satisfied: six in /Users/mysecret/opt/anaconda3/lib/python3.7/site-packages (from nltk) (1.14.0)\r\n"
     ]
    }
   ],
   "source": [
    "!pip install nltk"
   ]
  },
  {
   "cell_type": "code",
   "execution_count": 6,
   "metadata": {
    "colab": {},
    "colab_type": "code",
    "id": "6IAoXeueAH41"
   },
   "outputs": [],
   "source": [
    "from requests import get\n",
    "from bs4 import BeautifulSoup\n",
    "import pandas as pd\n",
    "import time "
   ]
  },
  {
   "cell_type": "code",
   "execution_count": 7,
   "metadata": {
    "colab": {},
    "colab_type": "code",
    "id": "FIn6i87M555i"
   },
   "outputs": [],
   "source": [
    "def getHTMLContent(url): \n",
    "  try:\n",
    "    response = get(url)\n",
    "    html = BeautifulSoup(response.text, 'html.parser')\n",
    "  except Exception as e:\n",
    "    html = None\n",
    "  return html"
   ]
  },
  {
   "cell_type": "code",
   "execution_count": 8,
   "metadata": {
    "colab": {},
    "colab_type": "code",
    "id": "p-p5ZP2n86NR"
   },
   "outputs": [],
   "source": [
    "hospitals = {\n",
    "  'rajavithi': 'https://www.honestdocs.co/hospitals/rajavithi-hospital',\n",
    "  'bumrungrad': 'https://www.honestdocs.co/hospitals/bumrungrad-hospital',\n",
    "  'lerdsin': 'https://www.honestdocs.co/hospitals/lerdsin-hospital'\n",
    "}\n",
    "for key, url in hospitals.items():\n",
    "  ratings = []\n",
    "  reviews = []\n",
    "  page = 1\n",
    "  while True:\n",
    "    time.sleep(1)\n",
    "    full_url = url+'?page='+str(page)\n",
    "    html = getHTMLContent(full_url)\n",
    "    if html is None:\n",
    "      break\n",
    "    comments = html.find_all('div', class_='comments__container')\n",
    "    if not comments :\n",
    "      break\n",
    "    for comment in comments:\n",
    "      rating = comment.find(\"span\", class_=\"star-rating\")[\"data-score\"]\n",
    "      if(int(rating) == 3):\n",
    "        continue\n",
    "      elif (int(rating) <= 2):\n",
    "        ratings.append(\"0\")\n",
    "      else:\n",
    "        ratings.append(\"1\")\n",
    "      review = comment.find(\"div\", class_=\"comments__content\").p.text\n",
    "      reviews.append(review)\n",
    "    page += 1\n",
    "  df = pd.DataFrame({\"reviews\": reviews,\n",
    "                   \"ratings\": ratings})\n",
    "  df.to_csv(key+\".csv\", index=False)\n",
    "  time.sleep(5)"
   ]
  },
  {
   "cell_type": "code",
   "execution_count": 11,
   "metadata": {},
   "outputs": [],
   "source": [
    "rajavithi_df = pd.read_csv(\"rajavithi.csv\")"
   ]
  },
  {
   "cell_type": "code",
   "execution_count": 12,
   "metadata": {},
   "outputs": [
    {
     "data": {
      "text/html": [
       "<div>\n",
       "<style scoped>\n",
       "    .dataframe tbody tr th:only-of-type {\n",
       "        vertical-align: middle;\n",
       "    }\n",
       "\n",
       "    .dataframe tbody tr th {\n",
       "        vertical-align: top;\n",
       "    }\n",
       "\n",
       "    .dataframe thead th {\n",
       "        text-align: right;\n",
       "    }\n",
       "</style>\n",
       "<table border=\"1\" class=\"dataframe\">\n",
       "  <thead>\n",
       "    <tr style=\"text-align: right;\">\n",
       "      <th></th>\n",
       "      <th>reviews</th>\n",
       "      <th>ratings</th>\n",
       "    </tr>\n",
       "  </thead>\n",
       "  <tbody>\n",
       "    <tr>\n",
       "      <th>0</th>\n",
       "      <td>บรรยากาศโรงพยาบาลสวยงามมีแอร์เย็นสบ...</td>\n",
       "      <td>1</td>\n",
       "    </tr>\n",
       "    <tr>\n",
       "      <th>1</th>\n",
       "      <td>มีศูนย์โรงผิวหนังเฉพาะทางที่ดีมากๆ​ คุณหมอทุกค...</td>\n",
       "      <td>1</td>\n",
       "    </tr>\n",
       "    <tr>\n",
       "      <th>2</th>\n",
       "      <td>หมอและพยาบาลบริการดีครับ สุขภาพเรียบร้อยให้การ...</td>\n",
       "      <td>1</td>\n",
       "    </tr>\n",
       "    <tr>\n",
       "      <th>3</th>\n",
       "      <td>การให้บริการของพยาบาลและคุณหมอดีมากๆค่ะ โรงพยา...</td>\n",
       "      <td>1</td>\n",
       "    </tr>\n",
       "    <tr>\n",
       "      <th>4</th>\n",
       "      <td>ที่ โรงพยาบาลราชวิถี ให้การตรวจรักษาและให้บริก...</td>\n",
       "      <td>1</td>\n",
       "    </tr>\n",
       "  </tbody>\n",
       "</table>\n",
       "</div>"
      ],
      "text/plain": [
       "                                             reviews  ratings\n",
       "0             บรรยากาศโรงพยาบาลสวยงามมีแอร์เย็นสบ...        1\n",
       "1  มีศูนย์โรงผิวหนังเฉพาะทางที่ดีมากๆ​ คุณหมอทุกค...        1\n",
       "2  หมอและพยาบาลบริการดีครับ สุขภาพเรียบร้อยให้การ...        1\n",
       "3  การให้บริการของพยาบาลและคุณหมอดีมากๆค่ะ โรงพยา...        1\n",
       "4  ที่ โรงพยาบาลราชวิถี ให้การตรวจรักษาและให้บริก...        1"
      ]
     },
     "execution_count": 12,
     "metadata": {},
     "output_type": "execute_result"
    }
   ],
   "source": [
    "rajavithi_df.head()"
   ]
  }
 ],
 "metadata": {
  "colab": {
   "collapsed_sections": [],
   "name": "Hospital-Review-Web-Scraper.ipynb",
   "provenance": []
  },
  "kernelspec": {
   "display_name": "Python 3",
   "language": "python",
   "name": "python3"
  },
  "language_info": {
   "codemirror_mode": {
    "name": "ipython",
    "version": 3
   },
   "file_extension": ".py",
   "mimetype": "text/x-python",
   "name": "python",
   "nbconvert_exporter": "python",
   "pygments_lexer": "ipython3",
   "version": "3.7.6"
  }
 },
 "nbformat": 4,
 "nbformat_minor": 1
}
